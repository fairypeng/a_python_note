{
 "cells": [
  {
   "cell_type": "markdown",
   "metadata": {},
   "source": [
    "## Linux操作指令"
   ]
  },
  {
   "cell_type": "markdown",
   "metadata": {},
   "source": [
    "### cd\n",
    "```\n",
    "cd  路径  跳转到某个路径\n",
    "cd Desktop 如果当前路径下有Desktop文件夹,那么跳转到里面\n",
    "cd  ..   返回上一层路径\n",
    "cd ../..  返回上一级的上一级\n",
    "   .    一个点表示当前路径\n",
    "cd ./Desktop 跳转到当前目录的Desktop\n",
    "cd  ~    快速回家\n",
    "cd  -    调到上次所在的路径\n",
    "```"
   ]
  },
  {
   "cell_type": "markdown",
   "metadata": {},
   "source": [
    "#### touch 文件名   // touch可以创建一个没有后缀名的文件"
   ]
  },
  {
   "cell_type": "markdown",
   "metadata": {},
   "source": [
    "#### pwd  打开 当前路径,显示当前正在操作的路径"
   ]
  },
  {
   "cell_type": "markdown",
   "metadata": {},
   "source": [
    "#### rm\n",
    "```\n",
    "rm 文件名  删除文件\n",
    "rmdir 目录名 删除目录 //不能删除非空目录\n",
    "rm -r 目录名 删除目录 //递归目录页可以删除\n",
    "```"
   ]
  },
  {
   "cell_type": "markdown",
   "metadata": {},
   "source": [
    "#### mk\n",
    "```\n",
    "mkdir 目录名 创建目录\n",
    "mk -p 目录名/目录名/目录名...  创建递归目录\n",
    "```"
   ]
  },
  {
   "cell_type": "markdown",
   "metadata": {},
   "source": [
    "#### ls\n",
    "```\n",
    "ls 显示当前路径下文件与目录的名字 //默认显示当前路径\n",
    "ls -a 显示当前路径下的隐藏文件\n",
    "ls -l 显示路径的详细信息\n",
    "```"
   ]
  },
  {
   "cell_type": "markdown",
   "metadata": {},
   "source": [
    "#### 相对路径:当前路径相邻的路径\n",
    "#### 绝对路径:指定的唯一有地址的路径"
   ]
  },
  {
   "cell_type": "markdown",
   "metadata": {},
   "source": [
    "#### cp\n",
    "```\n",
    "cp 文件名 目录名  复制指定文件到指定目录中\n",
    "cp 目录名1/目录名2 -r  复制目录1到目录2中\n",
    "```\n"
   ]
  },
  {
   "cell_type": "markdown",
   "metadata": {},
   "source": [
    "#### tree 显示当前目录的结构"
   ]
  },
  {
   "cell_type": "markdown",
   "metadata": {},
   "source": [
    "#### mv 移动\n",
    "```\n",
    "mv 目录1/目录2  将目录1移动到目录2中\n",
    "mv 目录名/重新命名的名字  将目录命名  // 重命名\n",
    "```"
   ]
  },
  {
   "cell_type": "markdown",
   "metadata": {},
   "source": [
    "#### history 查看使用终端指定的命令的行数 "
   ]
  }
 ],
 "metadata": {
  "kernelspec": {
   "display_name": "Python 3",
   "language": "python",
   "name": "python3"
  },
  "language_info": {
   "codemirror_mode": {
    "name": "ipython",
    "version": 3
   },
   "file_extension": ".py",
   "mimetype": "text/x-python",
   "name": "python",
   "nbconvert_exporter": "python",
   "pygments_lexer": "ipython3",
   "version": "3.6.1"
  }
 },
 "nbformat": 4,
 "nbformat_minor": 2
}
