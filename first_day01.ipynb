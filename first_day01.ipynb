{
 "cells": [
  {
   "cell_type": "markdown",
   "metadata": {},
   "source": [
    "## Linux操作指令"
   ]
  },
  {
   "cell_type": "markdown",
   "metadata": {},
   "source": [
    "### cd\n",
    "```\n",
    "cd  路径  跳转到某个路径\n",
    "cd Desktop 如果当前路径下有Desktop文件夹,那么跳转到里面\n",
    "cd  ..   返回上一层路径\n",
    "cd ../..  返回上一级的上一级\n",
    "   .    一个点表示当前路径\n",
    "cd ./Desktop 跳转到当前目录的Desktop\n",
    "cd  ~    快速回家\n",
    "cd  -    调到上次所在的路径\n",
    "```"
   ]
  },
  {
   "cell_type": "markdown",
   "metadata": {},
   "source": [
    "#### touch 文件名   # touch可以创建一个没有后缀名的文件"
   ]
  },
  {
   "cell_type": "markdown",
   "metadata": {},
   "source": [
    "#### pwd  打开 当前路径,显示当前正在操作的路径"
   ]
  },
  {
   "cell_type": "markdown",
   "metadata": {},
   "source": [
    "#### rm\n",
    "```\n",
    "rm 文件名  删除文件\n",
    "rmdir 目录名 删除目录 # 不能删除非空目录\n",
    "rm -r 目录名 删除目录 # 递归目录页可以删除\n",
    "```"
   ]
  },
  {
   "cell_type": "markdown",
   "metadata": {},
   "source": [
    "#### mk\n",
    "```\n",
    "mkdir 目录名 创建目录\n",
    "mkdir -p 目录名/目录名/目录名...  创建递归目录\n",
    "```"
   ]
  },
  {
   "cell_type": "markdown",
   "metadata": {},
   "source": [
    "#### ls\n",
    "```\n",
    "ls 显示当前路径下文件与目录的名字 # 默认显示当前路径\n",
    "ls -a 显示当前路径下所有的文件,包括隐藏文件\n",
    "ls -l 显示路径的详细信息\n",
    "ls -h 显示路径文件的大小的详细信息\n",
    "ls -alh\n",
    "ls *.txt 显示所有后缀为.txt的文件 # *表示任意个\n",
    "ls ???.txt 显示所有名字有3个字符的文件 # 几个问号表示几个字符 ?表示一定有一个\n",
    "excute 执行\n",
    "```"
   ]
  },
  {
   "cell_type": "markdown",
   "metadata": {},
   "source": [
    "#### 相对路径:当前路径相邻的路径  ~ home目录下的用户名的目录\n",
    "#### 绝对路径:指定的唯一有地址的路径  / 表示当前的跟目录"
   ]
  },
  {
   "cell_type": "markdown",
   "metadata": {},
   "source": [
    "#### cp\n",
    "```\n",
    "cp 文件名 目录名  复制指定文件到指定目录中\n",
    "cp 目录名1/目录名2 -r  复制目录1到目录2中\n",
    "```\n"
   ]
  },
  {
   "cell_type": "markdown",
   "metadata": {},
   "source": [
    "#### tree 显示当前目录的结构"
   ]
  },
  {
   "cell_type": "markdown",
   "metadata": {},
   "source": [
    "#### mv 移动\n",
    "```\n",
    "mv 目录1/目录2  将目录1移动到目录2中\n",
    "mv 目录名/重新命名的名字  将目录命名  # 重命名\n",
    "```"
   ]
  },
  {
   "cell_type": "markdown",
   "metadata": {},
   "source": [
    "#### history 查看使用终端指定的命令的行数 "
   ]
  },
  {
   "cell_type": "markdown",
   "metadata": {},
   "source": [
    "#### 简述什么是OS\n",
    "OS即操作系统,是一种管理电脑硬件与软件资源的程序,同时也是计算机系统的内核与基石.操作系统身负诸如管理与配置内存,决定系统资源供需的优先次序,控制输入与输出设备,操作网络与管理文件系统等基本事物."
   ]
  },
  {
   "cell_type": "markdown",
   "metadata": {},
   "source": [
    "#### 应用程序，硬件，OS的关系\n",
    "应用程序通过操作系统从而与物理硬件进行信号交流"
   ]
  },
  {
   "cell_type": "markdown",
   "metadata": {},
   "source": [
    "#### 常见的操作系统\n",
    "win Mac Android iOS"
   ]
  },
  {
   "cell_type": "markdown",
   "metadata": {},
   "source": [
    "#### Ubuntu与Linux的关系\n",
    "最严格的讲,Linux从来都不是操作系统,Linux只是一个操作系统内核,Ubuntu就是一个Linux发行版,也就是说Ubuntu是以Linux为内核的操作系统."
   ]
  },
  {
   "cell_type": "markdown",
   "metadata": {},
   "source": [
    "\n"
   ]
  },
  {
   "cell_type": "markdown",
   "metadata": {},
   "source": [
    "#### Linux发行版操作系统\n",
    "```\n",
    "centOS,Ubuntu,红帽企业级Linux等\n",
    "```"
   ]
  },
  {
   "cell_type": "markdown",
   "metadata": {},
   "source": [
    "#### Window和Linux的区别\n",
    "```\n",
    "在Windows平台下每个驱动器都有自己的根目录结构,这样形成了多个树并列的情形,在Linux下,我们是看不到这些驱动器盘符,我们看到的是文件夹.\n",
    "```"
   ]
  },
  {
   "cell_type": "markdown",
   "metadata": {},
   "source": [
    "#### Ubuntu中终端的作用,以及打开方式\n",
    "```\n",
    "终端就是一个shell的模拟,用于进行人机交互\n",
    "打开方式:\n",
    "    1.按Ctrl+alt+T\n",
    "    2.直接点击终端图标\n",
    "    3.在搜索中点击后,输入\"终端\"查找点击\n",
    "```"
   ]
  },
  {
   "cell_type": "markdown",
   "metadata": {},
   "source": [
    "#### Linux命令的作用\n",
    "```\n",
    "Linux提供了大量的命令,利用它可以有效地完成大量的工作\n",
    "```"
   ]
  },
  {
   "cell_type": "markdown",
   "metadata": {},
   "source": [
    "#### Linux命令的基本格式\n",
    "```\n",
    "command [-options] [parameter]\n",
    "说明:command:命令名,相应功能的英文单词或者单词的缩写.[-options]:选项,可用来对命令进行控制,也可以省略,[]代表可选 parameter1...:传给命令的参数:可以是零个一个或多个\n",
    "```"
   ]
  },
  {
   "cell_type": "markdown",
   "metadata": {},
   "source": [
    "#### 相对路径和绝对路径的区别\n",
    "```\n",
    "绝对路径:以根目录为起点;\n",
    "相对路径:以当前所在的目录为起点.\n",
    "```"
   ]
  }
 ],
 "metadata": {
  "kernelspec": {
   "display_name": "Python 3",
   "language": "python",
   "name": "python3"
  },
  "language_info": {
   "codemirror_mode": {
    "name": "ipython",
    "version": 3
   },
   "file_extension": ".py",
   "mimetype": "text/x-python",
   "name": "python",
   "nbconvert_exporter": "python",
   "pygments_lexer": "ipython3",
   "version": "3.6.1"
  }
 },
 "nbformat": 4,
 "nbformat_minor": 2
}
