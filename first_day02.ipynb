{
 "cells": [
  {
   "cell_type": "markdown",
   "metadata": {},
   "source": [
    "### Linux操作命令(二)"
   ]
  },
  {
   "cell_type": "markdown",
   "metadata": {},
   "source": [
    "#### 输出重定向命令:>\n",
    "\n",
    "```\n",
    "使用方法:ls > file_names.txt   # >指定将ls路径下的所有文件及文件夹名保存到\n",
    "                          file_names中,如果文件存在,则直接覆盖,不存在就新建.\n",
    "ls >> file_names.txt # 追加\n",
    "tree 路径 > 文件名  # 保存的是树状文件\n",
    "```"
   ]
  },
  {
   "cell_type": "markdown",
   "metadata": {},
   "source": [
    "#### 查看\n",
    "```\n",
    "gedit file_name.txt  # 查看文件\n",
    "cat 文件名  查看当前文件的内容 # 一次性显示完\n",
    "more 文件名 分页查看 # 当查看的文件内容比较多的时候,使用space/f/b分页,q退出,只能跟文件,b上一页,f下一页\n",
    "```"
   ]
  },
  {
   "cell_type": "markdown",
   "metadata": {},
   "source": [
    "#### 管道 |\n",
    "```\n",
    "tree 路径 | more 类似重定向.  将路径的内容传输到more进行分页查看\n",
    "```\n"
   ]
  },
  {
   "cell_type": "markdown",
   "metadata": {},
   "source": [
    "#### **软链接 不占用磁盘空间,源文件删除则链接失败\n",
    "```\n",
    "ln -s 源文件 链接文件 # 建立一个软链接\n",
    "当将源文件删除的时候,软链接不能使用\n",
    "指向源文件的文件名\n",
    "```"
   ]
  },
  {
   "cell_type": "markdown",
   "metadata": {},
   "source": [
    "#### **硬链接 只能链接普通文件,不能链接目录\n",
    "```\n",
    "ln 源文件 链接文件 # 建立一个硬链接\n",
    "当源文件删除的时候不影响硬链接的,当硬链接数为0时表示文件删除\n",
    "!序列号 执行之前的操作记录\n",
    "```"
   ]
  },
  {
   "cell_type": "markdown",
   "metadata": {},
   "source": [
    "#### 查看或者合并文件内容 cat\n",
    "```\n",
    "cat 文件名1 文件名2  # 文件1,2的内容合并到一起\n",
    "cat 文件名1 文件名2 > 新的文件名 # 创建新的文件保存文件1和2的内容\n",
    "```"
   ]
  },
  {
   "cell_type": "markdown",
   "metadata": {},
   "source": [
    "#### 搜索 grep\n",
    "```\n",
    "grep : 搜索文本,文本内容 grep \"查找内容\" 文件名 # 在文件中查找需要查找的内容,搜索\n",
    "       内容可以是正则表达式\n",
    "grep -n 显示匹配行及行号\n",
    "grep -i 忽略大小写\n",
    "grep -v 显示不包含匹配文本的所有行(相当于求反) \n",
    "```"
   ]
  },
  {
   "cell_type": "markdown",
   "metadata": {},
   "source": [
    "#### 查找文件 find\n",
    "```\n",
    "find ./ -name 文件名 # 查找当前目录下所有具有相同文件名的文件\n",
    "find ./ -name \"*.txt\" # 查找当前目录下所有后缀为.txt的文件\n",
    "find /temp -size 2M  # 查找temp目录下等于2M的文件\n",
    "find /temp -size +2M # 查找temp目录下大于2M的文件\n",
    "find /temp -size -2M # 查找temp目录下小于2M的文件\n",
    "find ./ -perm 777 # 查找当前目录下权限为777的文件或目录    \n",
    "```"
   ]
  },
  {
   "cell_type": "markdown",
   "metadata": {},
   "source": [
    "#### 通配符\n",
    "```\n",
    "* 表示任意0,1个文件\n",
    "? 表示一定有一个字符\n",
    "```"
   ]
  },
  {
   "cell_type": "markdown",
   "metadata": {},
   "source": [
    "#### 归档管理 tar\n",
    "```\n",
    "tar[参数] 打包文件名文件 # 参数面前可以使用'-',也可以不适用.\n",
    "tar -c 生成档案文件,创建打包文件\n",
    "tar -v 列出归档解档的详细过程,显示进度\n",
    "tar -f 指定档案文件名称,f后面一定是.tar文件, # 必须放选项最后\n",
    "tar -t 列出档案中包含的文件\n",
    "tar -x 解开档案文件\n",
    "```"
   ]
  },
  {
   "cell_type": "markdown",
   "metadata": {},
   "source": [
    "#### 文件压缩解压:gzip\n",
    "** tar与gzip命令结合使用实现文件打包,压缩.tar只负责打包文件,但不压缩,用gzip压缩tar打包后的文件,其扩展名一般用XXXX.tar.gz **\n",
    "```\n",
    "gzip [选项] 被压缩文件\n",
    "gzip -d 解压\n",
    "gzip -r 压缩所有子目录\n",
    "```\n",
    "```\n",
    "压缩方法:tar -zcvf test.tar.gz * # 将当前路径下所有的文件以及文件夹打包并压缩到test.tar.gz文件中\n",
    "解压方法:tar zxvf test.tar.gz # 解压到当前路径下\n",
    "```"
   ]
  },
  {
   "cell_type": "markdown",
   "metadata": {},
   "source": [
    "#### 查看文件位置 which"
   ]
  },
  {
   "cell_type": "markdown",
   "metadata": {},
   "source": [
    "#### 修改文件权限:chmod \n",
    "#### 分为字母法与数字法\n",
    "```\n",
    "字母法:chmod u/g/o/a+x 文件名 # 加权限 u(user)/g(group组)/o(other)/a(all)\n",
    "     chmod u/g/o/a-x 文件名 # 减权限 w:write r:read x:excute\n",
    "     chmod u=rwx 文件名 # 更改权限\n",
    "     chmod u=,g=,o= 文件名 # 不给权限\n",
    "数字法:r=4,w=2,x=1\n",
    "     chmod 777 文件名 # 文件拥有所有权限\n",
    "     chmod 000 文件名 # 文件不给权限\n",
    "     chmod 777 a -R # 将a目录下的所有文件以及目录都改成可读可写可操作\n",
    "```\n"
   ]
  },
  {
   "cell_type": "markdown",
   "metadata": {},
   "source": [
    "#### 切换到管理员账号\n",
    "```\n",
    "sudo -s 超级管理员\n",
    "```"
   ]
  },
  {
   "cell_type": "markdown",
   "metadata": {},
   "source": [
    "#### 设置用户密码:passwd\n",
    "```\n",
    "sudo passwd 密码 # 修改密码\n",
    "```"
   ]
  },
  {
   "cell_type": "markdown",
   "metadata": {},
   "source": [
    "#### 退出登录账户:exit\n",
    "```\n",
    "如果是图形界面，退出当前终端；\n",
    "如果是使用ssh远程登录，退出登陆账户；\n",
    "如果是切换后的登陆用户，退出则返回上一个登陆账号\n",
    "```"
   ]
  },
  {
   "cell_type": "markdown",
   "metadata": {},
   "source": [
    "#### 查看登录用户:who\n",
    "```\n",
    "who命令用于查看当前所有登录系统的用户信息.\n",
    "-q或者--count 只显示用户的登录账号和登录用户的数量\n",
    "-u或者--heading 显示列标题\n",
    "```"
   ]
  },
  {
   "cell_type": "markdown",
   "metadata": {},
   "source": [
    "### Linux软件安装与卸载\n",
    "#### Windows,iOS,Linux的安装软件不兼容\n",
    "```\n",
    "1.寻找国内镜像源\n",
    "2.修改更新源\n",
    "```\n",
    "#### Ubuntu软件操作的相关命令\n",
    "```\n",
    "sudo apt-get updata 更新源\n",
    "sudo apt-get install package 安装包\n",
    "sudo apt-get remove package 删除包\n",
    "sudo apt-cache search package 搜索软件包\n",
    "sudo apt-cache show package 获取包的相关信息,如说明,大小,版本等\n",
    "sudo apt-get install package --reinstall 重新安装包\n",
    "sudo apt-get -f install 修复安装\n",
    "sudo apt-get remove package --purge 删除包,包括配置文件等\n",
    "sudo apt-get build-dep package 安装相关的编译环境\n",
    "sudo apt-get upgrade 更新已安装的包\n",
    "sudo apt-get dist-upgrade 升级系统\n",
    "sudo apt-cache depends package 了解使用该包依赖哪些包\n",
    "sudo apt-cache rdepends package 了解该包被哪些包依赖\n",
    "sudo apt-get source package 下载该包的源代码\n",
    "sudo apt-get clean && sudo apt-get autoclean 清理无用包\n",
    "sudo apt-get check 检查是否有损坏的依赖\n",
    "```"
   ]
  },
  {
   "cell_type": "markdown",
   "metadata": {},
   "source": [
    "#### ftp服务器\n",
    "```\n",
    "FTP : File Transfer Protocol(文本传输协议)\n",
    "1.安装vsftpd服务器\n",
    "   sudo apt-get install vsftpd\n",
    "2.配置vsftpd.conf文件\n",
    "   sudo vi /etc/vsftpd.conf\n",
    "3.测试上传功能,登录ftp服务器\n",
    "  ftp IP\n",
    "4.上传命令,可以把文件上传到ftp服务器\n",
    "  put somefile\n",
    "5.下载命令,可以把ftp服务器上的文件下载到本地\n",
    "  get somefile\n",
    "```"
   ]
  },
  {
   "cell_type": "markdown",
   "metadata": {},
   "source": [
    "### Linux常用服务器构建-ssh和scp\n",
    "#### ssh\n",
    "```\n",
    "SSH : Secure Shell # 建立在应用层和传输层基础上的安全协议\n",
    "安装ssh\n",
    "    A.安装ssh服务器\n",
    "      sudo apt-getinstall openssh-server\n",
    "    B.远程登录\n",
    "      ssh 用户名@IP\n",
    "使用ssh连接服务器\n",
    "```\n",
    "#### scp\n",
    "```\n",
    "远程拷贝文件,scp-r的常用方法\n",
    "1.使用该命令的前提条件是要求目标主机已经成功安装openssh-sever\n",
    "    如没有安装使用 sudo apt-get install openssh-sever 来安装\n",
    "2.使用格式\n",
    "    scp -r 目标用户名@目标主机IP地址:/目标文件的绝对路径 /保存到本机的绝对/相对路径 # 拷贝单个文件可以不加-r参数,拷贝目录必须要加\n",
    "\n",
    "```\n"
   ]
  }
 ],
 "metadata": {
  "kernelspec": {
   "display_name": "Python 3",
   "language": "python",
   "name": "python3"
  },
  "language_info": {
   "codemirror_mode": {
    "name": "ipython",
    "version": 3
   },
   "file_extension": ".py",
   "mimetype": "text/x-python",
   "name": "python",
   "nbconvert_exporter": "python",
   "pygments_lexer": "ipython3",
   "version": "3.6.1"
  }
 },
 "nbformat": 4,
 "nbformat_minor": 2
}
